{
 "cells": [
  {
   "cell_type": "code",
   "execution_count": 3,
   "metadata": {},
   "outputs": [],
   "source": [
    "import pandas as pd"
   ]
  },
  {
   "cell_type": "markdown",
   "metadata": {},
   "source": [
    "## Reading the DataSets"
   ]
  },
  {
   "cell_type": "code",
   "execution_count": 4,
   "metadata": {},
   "outputs": [],
   "source": [
    "nycpayroll_2020_df = pd.read_csv(r'Raw_DataSet\\Raw_nycpayroll_2020.csv')\n",
    "nycpayroll_2021_df = pd.read_csv(r'Raw_DataSet\\Raw_nycpayroll_2021.csv')\n",
    "AgencyMaster_df = pd.read_csv(r'Raw_DataSet\\Raw_AgencyMaster.csv')\n",
    "EmpMaster_df = pd.read_csv(r'Raw_DataSet\\Raw_EmpMaster.csv')\n",
    "TitleMaster_df = pd.read_csv(r'Raw_DataSet\\Raw_TitleMaster.csv')"
   ]
  },
  {
   "cell_type": "code",
   "execution_count": 5,
   "metadata": {},
   "outputs": [
    {
     "name": "stdout",
     "output_type": "stream",
     "text": [
      "<class 'pandas.core.frame.DataFrame'>\n",
      "RangeIndex: 1446 entries, 0 to 1445\n",
      "Data columns (total 2 columns):\n",
      " #   Column            Non-Null Count  Dtype \n",
      "---  ------            --------------  ----- \n",
      " 0   TitleCode         1446 non-null   int64 \n",
      " 1   TitleDescription  1445 non-null   object\n",
      "dtypes: int64(1), object(1)\n",
      "memory usage: 22.7+ KB\n"
     ]
    }
   ],
   "source": [
    "TitleMaster_df.info()"
   ]
  },
  {
   "cell_type": "code",
   "execution_count": 6,
   "metadata": {},
   "outputs": [
    {
     "name": "stdout",
     "output_type": "stream",
     "text": [
      "<class 'pandas.core.frame.DataFrame'>\n",
      "RangeIndex: 153 entries, 0 to 152\n",
      "Data columns (total 2 columns):\n",
      " #   Column      Non-Null Count  Dtype \n",
      "---  ------      --------------  ----- \n",
      " 0   AgencyID    153 non-null    int64 \n",
      " 1   AgencyName  153 non-null    object\n",
      "dtypes: int64(1), object(1)\n",
      "memory usage: 2.5+ KB\n"
     ]
    }
   ],
   "source": [
    "AgencyMaster_df.info()"
   ]
  },
  {
   "cell_type": "code",
   "execution_count": 7,
   "metadata": {},
   "outputs": [
    {
     "name": "stdout",
     "output_type": "stream",
     "text": [
      "<class 'pandas.core.frame.DataFrame'>\n",
      "RangeIndex: 100 entries, 0 to 99\n",
      "Data columns (total 19 columns):\n",
      " #   Column                 Non-Null Count  Dtype  \n",
      "---  ------                 --------------  -----  \n",
      " 0   FiscalYear             100 non-null    int64  \n",
      " 1   PayrollNumber          100 non-null    int64  \n",
      " 2   AgencyID               100 non-null    int64  \n",
      " 3   AgencyName             100 non-null    object \n",
      " 4   EmployeeID             100 non-null    int64  \n",
      " 5   LastName               100 non-null    object \n",
      " 6   FirstName              100 non-null    object \n",
      " 7   AgencyStartDate        100 non-null    object \n",
      " 8   WorkLocationBorough    100 non-null    object \n",
      " 9   TitleCode              100 non-null    int64  \n",
      " 10  TitleDescription       100 non-null    object \n",
      " 11  LeaveStatusasofJune30  100 non-null    object \n",
      " 12  BaseSalary             100 non-null    float64\n",
      " 13  PayBasis               100 non-null    object \n",
      " 14  RegularHours           100 non-null    float64\n",
      " 15  RegularGrossPaid       100 non-null    float64\n",
      " 16  OTHours                100 non-null    float64\n",
      " 17  TotalOTPaid            100 non-null    float64\n",
      " 18  TotalOtherPay          100 non-null    float64\n",
      "dtypes: float64(6), int64(5), object(8)\n",
      "memory usage: 15.0+ KB\n"
     ]
    }
   ],
   "source": [
    "nycpayroll_2020_df.info()"
   ]
  },
  {
   "cell_type": "code",
   "execution_count": null,
   "metadata": {},
   "outputs": [],
   "source": []
  },
  {
   "cell_type": "code",
   "execution_count": 8,
   "metadata": {},
   "outputs": [
    {
     "name": "stdout",
     "output_type": "stream",
     "text": [
      "<class 'pandas.core.frame.DataFrame'>\n",
      "RangeIndex: 101 entries, 0 to 100\n",
      "Data columns (total 19 columns):\n",
      " #   Column                 Non-Null Count  Dtype  \n",
      "---  ------                 --------------  -----  \n",
      " 0   FiscalYear             101 non-null    int64  \n",
      " 1   PayrollNumber          101 non-null    int64  \n",
      " 2   AgencyCode             101 non-null    int64  \n",
      " 3   AgencyName             101 non-null    object \n",
      " 4   EmployeeID             101 non-null    int64  \n",
      " 5   LastName               101 non-null    object \n",
      " 6   FirstName              101 non-null    object \n",
      " 7   AgencyStartDate        101 non-null    object \n",
      " 8   WorkLocationBorough    101 non-null    object \n",
      " 9   TitleCode              101 non-null    int64  \n",
      " 10  TitleDescription       101 non-null    object \n",
      " 11  LeaveStatusasofJune30  101 non-null    object \n",
      " 12  BaseSalary             101 non-null    float64\n",
      " 13  PayBasis               101 non-null    object \n",
      " 14  RegularHours           101 non-null    int64  \n",
      " 15  RegularGrossPaid       101 non-null    float64\n",
      " 16  OTHours                101 non-null    float64\n",
      " 17  TotalOTPaid            101 non-null    float64\n",
      " 18  TotalOtherPay          101 non-null    float64\n",
      "dtypes: float64(5), int64(6), object(8)\n",
      "memory usage: 15.1+ KB\n"
     ]
    }
   ],
   "source": [
    "nycpayroll_2021_df.info()"
   ]
  },
  {
   "cell_type": "markdown",
   "metadata": {},
   "source": [
    "## CLEANING AND TRANSFORMATION"
   ]
  },
  {
   "cell_type": "code",
   "execution_count": 9,
   "metadata": {},
   "outputs": [],
   "source": [
    "# Rename 'AgencyID' in 2020 data to 'AgencyCode' to match 2021 data\n",
    "nycpayroll_2020_df.rename(columns={'AgencyID': 'AgencyCode'}, inplace=True)"
   ]
  },
  {
   "cell_type": "code",
   "execution_count": 10,
   "metadata": {},
   "outputs": [
    {
     "name": "stdout",
     "output_type": "stream",
     "text": [
      "<class 'pandas.core.frame.DataFrame'>\n",
      "RangeIndex: 100 entries, 0 to 99\n",
      "Data columns (total 19 columns):\n",
      " #   Column                 Non-Null Count  Dtype  \n",
      "---  ------                 --------------  -----  \n",
      " 0   FiscalYear             100 non-null    int64  \n",
      " 1   PayrollNumber          100 non-null    int64  \n",
      " 2   AgencyCode             100 non-null    int64  \n",
      " 3   AgencyName             100 non-null    object \n",
      " 4   EmployeeID             100 non-null    int64  \n",
      " 5   LastName               100 non-null    object \n",
      " 6   FirstName              100 non-null    object \n",
      " 7   AgencyStartDate        100 non-null    object \n",
      " 8   WorkLocationBorough    100 non-null    object \n",
      " 9   TitleCode              100 non-null    int64  \n",
      " 10  TitleDescription       100 non-null    object \n",
      " 11  LeaveStatusasofJune30  100 non-null    object \n",
      " 12  BaseSalary             100 non-null    float64\n",
      " 13  PayBasis               100 non-null    object \n",
      " 14  RegularHours           100 non-null    float64\n",
      " 15  RegularGrossPaid       100 non-null    float64\n",
      " 16  OTHours                100 non-null    float64\n",
      " 17  TotalOTPaid            100 non-null    float64\n",
      " 18  TotalOtherPay          100 non-null    float64\n",
      "dtypes: float64(6), int64(5), object(8)\n",
      "memory usage: 15.0+ KB\n"
     ]
    }
   ],
   "source": [
    "nycpayroll_2020_df.info()"
   ]
  },
  {
   "cell_type": "code",
   "execution_count": 11,
   "metadata": {},
   "outputs": [],
   "source": [
    "# Convert 'AgencyStartDate' to datetime format in both datasets\n",
    "nycpayroll_2020_df['AgencyStartDate'] = pd.to_datetime(nycpayroll_2020_df['AgencyStartDate'], errors='coerce')\n",
    "nycpayroll_2021_df['AgencyStartDate'] = pd.to_datetime(nycpayroll_2021_df['AgencyStartDate'], errors='coerce')"
   ]
  },
  {
   "cell_type": "code",
   "execution_count": 12,
   "metadata": {},
   "outputs": [
    {
     "name": "stdout",
     "output_type": "stream",
     "text": [
      "Index(['FiscalYear', 'PayrollNumber', 'AgencyCode', 'AgencyName', 'EmployeeID',\n",
      "       'LastName', 'FirstName', 'AgencyStartDate', 'WorkLocationBorough',\n",
      "       'TitleCode', 'TitleDescription', 'LeaveStatusasofJune30', 'BaseSalary',\n",
      "       'PayBasis', 'RegularHours', 'RegularGrossPaid', 'OTHours',\n",
      "       'TotalOTPaid', 'TotalOtherPay'],\n",
      "      dtype='object')\n"
     ]
    }
   ],
   "source": [
    "print(nycpayroll_2021_df.columns)\n"
   ]
  },
  {
   "cell_type": "code",
   "execution_count": 13,
   "metadata": {},
   "outputs": [
    {
     "name": "stdout",
     "output_type": "stream",
     "text": [
      "Missing values in nycpayroll_2020_df:\n",
      "FiscalYear               0\n",
      "PayrollNumber            0\n",
      "AgencyCode               0\n",
      "AgencyName               0\n",
      "EmployeeID               0\n",
      "LastName                 0\n",
      "FirstName                0\n",
      "AgencyStartDate          0\n",
      "WorkLocationBorough      0\n",
      "TitleCode                0\n",
      "TitleDescription         0\n",
      "LeaveStatusasofJune30    0\n",
      "BaseSalary               0\n",
      "PayBasis                 0\n",
      "RegularHours             0\n",
      "RegularGrossPaid         0\n",
      "OTHours                  0\n",
      "TotalOTPaid              0\n",
      "TotalOtherPay            0\n",
      "dtype: int64\n",
      "Missing values in nycpayroll_2021_df:\n",
      "FiscalYear               0\n",
      "PayrollNumber            0\n",
      "AgencyCode               0\n",
      "AgencyName               0\n",
      "EmployeeID               0\n",
      "LastName                 0\n",
      "FirstName                0\n",
      "AgencyStartDate          0\n",
      "WorkLocationBorough      0\n",
      "TitleCode                0\n",
      "TitleDescription         0\n",
      "LeaveStatusasofJune30    0\n",
      "BaseSalary               0\n",
      "PayBasis                 0\n",
      "RegularHours             0\n",
      "RegularGrossPaid         0\n",
      "OTHours                  0\n",
      "TotalOTPaid              0\n",
      "TotalOtherPay            0\n",
      "dtype: int64\n",
      "Missing values in AgencyMaster_df:\n",
      "AgencyID      0\n",
      "AgencyName    0\n",
      "dtype: int64\n",
      "Missing values in EmpMaster_df:\n",
      "EmployeeID    0\n",
      "LastName      0\n",
      "FirstName     0\n",
      "dtype: int64\n",
      "Missing values in TitleMaster_df:\n",
      "TitleCode           0\n",
      "TitleDescription    1\n",
      "dtype: int64\n"
     ]
    }
   ],
   "source": [
    "\n",
    "# Check for missing values in all datasets\n",
    "print(\"Missing values in nycpayroll_2020_df:\")\n",
    "print(nycpayroll_2020_df.isnull().sum())\n",
    "\n",
    "print(\"Missing values in nycpayroll_2021_df:\")\n",
    "print(nycpayroll_2021_df.isnull().sum())\n",
    "\n",
    "print(\"Missing values in AgencyMaster_df:\")\n",
    "print(AgencyMaster_df.isnull().sum())\n",
    "\n",
    "print(\"Missing values in EmpMaster_df:\")\n",
    "print(EmpMaster_df.isnull().sum())\n",
    "\n",
    "print(\"Missing values in TitleMaster_df:\")\n",
    "print(TitleMaster_df.isnull().sum())"
   ]
  },
  {
   "cell_type": "code",
   "execution_count": 14,
   "metadata": {},
   "outputs": [],
   "source": [
    "TitleMaster_df['TitleDescription'].fillna('Unknown', inplace=True)\n"
   ]
  },
  {
   "cell_type": "code",
   "execution_count": 15,
   "metadata": {},
   "outputs": [
    {
     "data": {
      "text/plain": [
       "(    FiscalYear  PayrollNumber  AgencyCode                      AgencyName  \\\n",
       " 0         2020             17        2120  OFFICE OF EMERGENCY MANAGEMENT   \n",
       " 1         2020             17        2120  OFFICE OF EMERGENCY MANAGEMENT   \n",
       " 2         2020             17        2120  OFFICE OF EMERGENCY MANAGEMENT   \n",
       " 3         2020             17        2120  OFFICE OF EMERGENCY MANAGEMENT   \n",
       " 4         2020             17        2120  OFFICE OF EMERGENCY MANAGEMENT   \n",
       " ..         ...            ...         ...                             ...   \n",
       " 95        2020             19        2122   OFFICE OF MANAGEMENT & BUDGET   \n",
       " 96        2020             19        2122   OFFICE OF MANAGEMENT & BUDGET   \n",
       " 97        2020             19        2122   OFFICE OF MANAGEMENT & BUDGET   \n",
       " 98        2020             19        2122   OFFICE OF MANAGEMENT & BUDGET   \n",
       " 99        1998             19        2122   OFFICE OF MANAGEMENT & BUDGET   \n",
       " \n",
       "     EmployeeID    LastName  FirstName AgencyStartDate WorkLocationBorough  \\\n",
       " 0        10001      GEAGER   VERONICA      2016-09-12            BROOKLYN   \n",
       " 1       149612       ROTTA   JONATHAN      2013-09-16            BROOKLYN   \n",
       " 2       206583   WILSON II     ROBERT      2018-04-30            BROOKLYN   \n",
       " 3       199874  WASHINGTON     MORIAH      2019-03-18            BROOKLYN   \n",
       " 4        58036    KRAWCZYK     AMANDA      2017-05-15            BROOKLYN   \n",
       " ..         ...         ...        ...             ...                 ...   \n",
       " 95       33054     HIGGINS      JAMES      1982-06-21           MANHATTAN   \n",
       " 96       19997   GREENBERG      DAVID      2008-07-14           MANHATTAN   \n",
       " 97       61906      LARSON  CHRISTINE      2005-12-25           MANHATTAN   \n",
       " 98       19003    GRATHWOL       JOHN      1988-09-27           MANHATTAN   \n",
       " 99       15188   GOLDSTEIN     JOSHUA      1999-01-04           MANHATTAN   \n",
       " \n",
       "     TitleCode                TitleDescription LeaveStatusasofJune30  \\\n",
       " 0       40447  EMERGENCY PREPAREDNESS MANAGER                ACTIVE   \n",
       " 1       40447  EMERGENCY PREPAREDNESS MANAGER                ACTIVE   \n",
       " 2       40447  EMERGENCY PREPAREDNESS MANAGER                ACTIVE   \n",
       " 3       40447  EMERGENCY PREPAREDNESS MANAGER                ACTIVE   \n",
       " 4       40447  EMERGENCY PREPAREDNESS MANAGER                ACTIVE   \n",
       " ..        ...                             ...                   ...   \n",
       " 95      40306        COMPUTER SYSTEMS MANAGER                ACTIVE   \n",
       " 96      40199                  BUDGET ANALYST                ACTIVE   \n",
       " 97      40199                  BUDGET ANALYST                ACTIVE   \n",
       " 98      40199                  BUDGET ANALYST                CEASED   \n",
       " 99      40199                  BUDGET ANALYST                ACTIVE   \n",
       " \n",
       "     BaseSalary   PayBasis  RegularHours  RegularGrossPaid  OTHours  \\\n",
       " 0      86005.0  per Annum        1820.0          84698.21      0.0   \n",
       " 1      86005.0  per Annum        1820.0          84698.21      0.0   \n",
       " 2      86005.0  per Annum        1820.0          84698.21      0.0   \n",
       " 3      86005.0  per Annum        1820.0          87900.95      0.0   \n",
       " 4      86005.0  per Annum        1820.0          83976.54      0.0   \n",
       " ..         ...        ...           ...               ...      ...   \n",
       " 95    195826.0  per Annum        1820.0         192850.37      0.0   \n",
       " 96    196950.0  per Annum        1820.0         192107.94      0.0   \n",
       " 97    185843.0  per Annum        1820.0         183019.14      0.0   \n",
       " 98    216431.0  per Annum           0.0              0.00      0.0   \n",
       " 99    176785.0  per Annum        1820.0         174098.86      0.0   \n",
       " \n",
       "     TotalOTPaid  TotalOtherPay  \n",
       " 0           0.0           0.00  \n",
       " 1           0.0           0.00  \n",
       " 2           0.0           0.00  \n",
       " 3           0.0       -3202.74  \n",
       " 4           0.0           0.00  \n",
       " ..          ...            ...  \n",
       " 95          0.0           0.00  \n",
       " 96          0.0         500.00  \n",
       " 97          0.0           0.00  \n",
       " 98          0.0      180605.85  \n",
       " 99          0.0           0.00  \n",
       " \n",
       " [100 rows x 19 columns],\n",
       "     FiscalYear  PayrollNumber  AgencyCode                      AgencyName  \\\n",
       " 0         2020             17        2120  OFFICE OF EMERGENCY MANAGEMENT   \n",
       " 1         2020             17        2120  OFFICE OF EMERGENCY MANAGEMENT   \n",
       " 2         2020             17        2120  OFFICE OF EMERGENCY MANAGEMENT   \n",
       " 3         2020             17        2120  OFFICE OF EMERGENCY MANAGEMENT   \n",
       " 4         2020             17        2120  OFFICE OF EMERGENCY MANAGEMENT   \n",
       " ..         ...            ...         ...                             ...   \n",
       " 95        2020             19        2122   OFFICE OF MANAGEMENT & BUDGET   \n",
       " 96        2020             19        2122   OFFICE OF MANAGEMENT & BUDGET   \n",
       " 97        2020             19        2122   OFFICE OF MANAGEMENT & BUDGET   \n",
       " 98        2020             19        2122   OFFICE OF MANAGEMENT & BUDGET   \n",
       " 99        1998             19        2122   OFFICE OF MANAGEMENT & BUDGET   \n",
       " \n",
       "     EmployeeID    LastName  FirstName AgencyStartDate WorkLocationBorough  \\\n",
       " 0        10001      GEAGER   VERONICA      2016-09-12            BROOKLYN   \n",
       " 1       149612       ROTTA   JONATHAN      2013-09-16            BROOKLYN   \n",
       " 2       206583   WILSON II     ROBERT      2018-04-30            BROOKLYN   \n",
       " 3       199874  WASHINGTON     MORIAH      2019-03-18            BROOKLYN   \n",
       " 4        58036    KRAWCZYK     AMANDA      2017-05-15            BROOKLYN   \n",
       " ..         ...         ...        ...             ...                 ...   \n",
       " 95       33054     HIGGINS      JAMES      1982-06-21           MANHATTAN   \n",
       " 96       19997   GREENBERG      DAVID      2008-07-14           MANHATTAN   \n",
       " 97       61906      LARSON  CHRISTINE      2005-12-25           MANHATTAN   \n",
       " 98       19003    GRATHWOL       JOHN      1988-09-27           MANHATTAN   \n",
       " 99       15188   GOLDSTEIN     JOSHUA      1999-01-04           MANHATTAN   \n",
       " \n",
       "     TitleCode                TitleDescription LeaveStatusasofJune30  \\\n",
       " 0       40447  EMERGENCY PREPAREDNESS MANAGER                ACTIVE   \n",
       " 1       40447  EMERGENCY PREPAREDNESS MANAGER                ACTIVE   \n",
       " 2       40447  EMERGENCY PREPAREDNESS MANAGER                ACTIVE   \n",
       " 3       40447  EMERGENCY PREPAREDNESS MANAGER                ACTIVE   \n",
       " 4       40447  EMERGENCY PREPAREDNESS MANAGER                ACTIVE   \n",
       " ..        ...                             ...                   ...   \n",
       " 95      40306        COMPUTER SYSTEMS MANAGER                ACTIVE   \n",
       " 96      40199                  BUDGET ANALYST                ACTIVE   \n",
       " 97      40199                  BUDGET ANALYST                ACTIVE   \n",
       " 98      40199                  BUDGET ANALYST                CEASED   \n",
       " 99      40199                  BUDGET ANALYST                ACTIVE   \n",
       " \n",
       "     BaseSalary   PayBasis  RegularHours  RegularGrossPaid  OTHours  \\\n",
       " 0      86005.0  per Annum        1820.0          84698.21      0.0   \n",
       " 1      86005.0  per Annum        1820.0          84698.21      0.0   \n",
       " 2      86005.0  per Annum        1820.0          84698.21      0.0   \n",
       " 3      86005.0  per Annum        1820.0          87900.95      0.0   \n",
       " 4      86005.0  per Annum        1820.0          83976.54      0.0   \n",
       " ..         ...        ...           ...               ...      ...   \n",
       " 95    195826.0  per Annum        1820.0         192850.37      0.0   \n",
       " 96    196950.0  per Annum        1820.0         192107.94      0.0   \n",
       " 97    185843.0  per Annum        1820.0         183019.14      0.0   \n",
       " 98    216431.0  per Annum           0.0              0.00      0.0   \n",
       " 99    176785.0  per Annum        1820.0         174098.86      0.0   \n",
       " \n",
       "     TotalOTPaid  TotalOtherPay  \n",
       " 0           0.0           0.00  \n",
       " 1           0.0           0.00  \n",
       " 2           0.0           0.00  \n",
       " 3           0.0       -3202.74  \n",
       " 4           0.0           0.00  \n",
       " ..          ...            ...  \n",
       " 95          0.0           0.00  \n",
       " 96          0.0         500.00  \n",
       " 97          0.0           0.00  \n",
       " 98          0.0      180605.85  \n",
       " 99          0.0           0.00  \n",
       " \n",
       " [100 rows x 19 columns])"
      ]
     },
     "execution_count": 15,
     "metadata": {},
     "output_type": "execute_result"
    }
   ],
   "source": [
    "# Convert numerical columns to appropriate data types\n",
    "num_columns = ['BaseSalary', 'RegularHours', 'RegularGrossPaid', 'OTHours', 'TotalOTPaid', 'TotalOtherPay']\n",
    "\n",
    "# Convert columns to numeric, coercing errors to NaN\n",
    "nycpayroll_2020_df[num_columns] = nycpayroll_2020_df[num_columns].apply(pd.to_numeric, errors='coerce')\n",
    "nycpayroll_2021_df[num_columns] = nycpayroll_2021_df[num_columns].apply(pd.to_numeric, errors='coerce')\n",
    "\n",
    "\n",
    "# Output the missing values summary\n",
    "nycpayroll_2020_df, nycpayroll_2020_df\n"
   ]
  },
  {
   "cell_type": "markdown",
   "metadata": {},
   "source": [
    "## SAVING DATA TO CSV"
   ]
  },
  {
   "cell_type": "code",
   "execution_count": 16,
   "metadata": {},
   "outputs": [],
   "source": [
    "# Renaming the dataframes for clarity\n",
    "NYCPayroll_2020_clean = nycpayroll_2020_df\n",
    "NYCPayroll_2021_clean = nycpayroll_2021_df\n",
    "AGENCYMaster_clean = AgencyMaster_df\n",
    "EMPLOYEEMaster_clean = EmpMaster_df\n",
    "TITLEMaster_clean = TitleMaster_df"
   ]
  },
  {
   "cell_type": "code",
   "execution_count": 17,
   "metadata": {},
   "outputs": [],
   "source": [
    "# Saving to CSV\n",
    "NYCPayroll_2020_clean.to_csv(r'Clean_DataSet/NYCPayroll_2020_clean.csv', index=False)\n",
    "NYCPayroll_2021_clean.to_csv(r'Clean_DataSet/NYCPayroll_2021_clean.csv', index=False)\n",
    "AGENCYMaster_clean.to_csv(r'Clean_DataSet/AGENCYMaster_clean.csv', index=False)\n",
    "EMPLOYEEMaster_clean.to_csv(r'Clean_DataSet/EMPLOYEEMaster_clean.csv', index=False)\n",
    "TITLEMaster_clean.to_csv(r'Clean_DataSet/TITLEMaster_clean.csv', index=False)"
   ]
  },
  {
   "cell_type": "code",
   "execution_count": null,
   "metadata": {},
   "outputs": [],
   "source": []
  }
 ],
 "metadata": {
  "kernelspec": {
   "display_name": "base",
   "language": "python",
   "name": "python3"
  },
  "language_info": {
   "codemirror_mode": {
    "name": "ipython",
    "version": 3
   },
   "file_extension": ".py",
   "mimetype": "text/x-python",
   "name": "python",
   "nbconvert_exporter": "python",
   "pygments_lexer": "ipython3",
   "version": "3.11.7"
  }
 },
 "nbformat": 4,
 "nbformat_minor": 2
}
